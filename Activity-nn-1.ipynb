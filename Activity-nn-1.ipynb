{
 "cells": [
  {
   "cell_type": "markdown",
   "metadata": {},
   "source": [
    "## Approximate Nearest Neighbors using LSH\n",
    "\n",
    "This notebook will show the give and take between building multiple hash tables and employing multiple hash functions when searching for approximate neighbors using LSH. The demonstration is meant to clarify slide 12 from slide deck 3, on Nearest Neighbors.\n",
    "\n",
    "I have written a basic LSH implementation in Python, with instantiations for the cosine similarity, Hamming distance, and the Jaccard coefficient LSH families. The code is written in OOP style and can be easily extended to other LSH families. Take a look at lsh.py for the details. In this demo, we will be using the cosine similarity version of the LSH data structure, *clsh*."
   ]
  },
  {
   "cell_type": "code",
   "execution_count": 2,
   "metadata": {},
   "outputs": [
    {
     "name": "stdout",
     "output_type": "stream",
     "text": [
      "The autoreload extension is already loaded. To reload it, use:\n",
      "  %reload_ext autoreload\n"
     ]
    }
   ],
   "source": [
    "%load_ext autoreload\n",
    "%autoreload 2\n",
    "import time\n",
    "import numpy as np\n",
    "from lsh import clsh, jlsh, generateSamples, findNeighborsBrute, recall"
   ]
  },
  {
   "cell_type": "markdown",
   "metadata": {},
   "source": [
    "First, we will generate some random samples, and split the data into train (X) and test (Y) subsets. Samples are generated from 100 gausian blobs, i.e., points will be fairly spread out as far as their cosine similarity is concerned."
   ]
  },
  {
   "cell_type": "code",
   "execution_count": 3,
   "metadata": {},
   "outputs": [
    {
     "name": "stdout",
     "output_type": "stream",
     "text": [
      "((900, 100), (100, 100))\n"
     ]
    }
   ],
   "source": [
    "# using Jaccard Coefficient\n",
    "def get_samples(is_binary=False):\n",
    "    X, Y = generateSamples(nsamples=1000, nfeatures=100, nclusters=64, clusterstd=50, binary=is_binary)\n",
    "    return X, Y\n",
    "\n",
    "X, Y = get_samples(is_binary=False)\n",
    "print(X.shape, Y.shape)"
   ]
  },
  {
   "cell_type": "markdown",
   "metadata": {},
   "source": [
    "The basic concept in LSH is that of *hashing* the vectors using a random LSH family of hash functions. As we discussed in class, the LSH families will be more likely to assign the same hash value to similar items. This, however, does not happen all the time. First, let's see what the result of hashing a vector looks like."
   ]
  },
  {
   "cell_type": "code",
   "execution_count": 4,
   "metadata": {},
   "outputs": [
    {
     "name": "stdout",
     "output_type": "stream",
     "text": [
      "0\n",
      "0\n",
      "0\n",
      "1\n",
      "1\n",
      "1\n",
      "1\n",
      "1\n",
      "1\n",
      "0\n"
     ]
    }
   ],
   "source": [
    "L11 = clsh(X, ntables=1, nfunctions=1)\n",
    "for i in range(10):\n",
    "    print(L11.hash(X[i,:]))"
   ]
  },
  {
   "cell_type": "markdown",
   "metadata": {},
   "source": [
    "As shown in slide 18, the output of the cosine family of LSH function is binary, depending on the sign of the dot-product $\\langle r,x\\rangle$ between the random unit vector $r$ and our input vector $x=X[i,:]$.\n",
    "\n",
    "Note that we created a single table in our LSH data structure and are using a single LSH function to hash vectors. This means that we're simply partitioning vectors into two buckets. Some vectors will go to the bucket with ID 0, and others will go to the bucket with ID 1.\n",
    "\n",
    "When we instantiated the LSH data structure *L*, all the vectors in X were already assigned to their respective buckets. Let's see how many vectors each bucket has."
   ]
  },
  {
   "cell_type": "code",
   "execution_count": 5,
   "metadata": {},
   "outputs": [
    {
     "name": "stdout",
     "output_type": "stream",
     "text": [
      "Bucket ID 0 has 442 vectors.\n",
      "Bucket ID 1 has 458 vectors.\n"
     ]
    }
   ],
   "source": [
    "print(\"Bucket ID 0 has %d vectors.\" % len(L11.tables[0]['0']))\n",
    "print(\"Bucket ID 1 has %d vectors.\" % len(L11.tables[0]['1']))"
   ]
  },
  {
   "cell_type": "markdown",
   "metadata": {},
   "source": [
    "Now, when it's time to find neighbors for a new vector, say $y=Y[0,:]$, the first vector in our test set, we hash the vector to see which bucket we should look in to find neighbors."
   ]
  },
  {
   "cell_type": "code",
   "execution_count": 6,
   "metadata": {},
   "outputs": [
    {
     "name": "stdout",
     "output_type": "stream",
     "text": [
      "0\n"
     ]
    }
   ],
   "source": [
    "print(L11.hash(Y[0,:], tid=0, fid=0))"
   ]
  },
  {
   "cell_type": "markdown",
   "metadata": {},
   "source": [
    "Note that I passed in the ID of the table I'm searching in and the ID of the function I'm hashing with. For LSH to work, we have to use the same hashing functions that were used to create the table(s). Therefore, $clsh$ stores the randomly generated functions it created for each table.\n",
    "\n",
    "Now, it looks like I have to compare $y$ against almost half of the vectors in $X$, which is a lot, and leads to low *precision*. Precision is the fraction of retrieved instances (the vectors we compared against) that are relevant (that would also be in the exact result). Since the number of objects we're comparing against is high, precision will be low. In order to increase the precision, I can use several hash functions and concatenate their results. Increasing the precision will also reduc the amount of time spent finding neighbors, as we will have fewer objects to compare against.\n",
    "\n",
    "Let's say I use 2 hash functions from the Cosine LSH family. Then, the possible resulting hash values would be 00, 01, 10, and 11, spliting the vectors in X into 4 buckets (instead of 2, when we used 1 function). If we use 3 functions, we get 8 buckets. In general, using $f$ functions will split the \"search space\" into $2^f$ buckets.\n",
    "\n",
    "Let's try this using 3 functions."
   ]
  },
  {
   "cell_type": "code",
   "execution_count": 7,
   "metadata": {},
   "outputs": [
    {
     "name": "stdout",
     "output_type": "stream",
     "text": [
      "Bucket ID 010 has 106 vectors.\n",
      "Bucket ID 011 has 115 vectors.\n",
      "Bucket ID 001 has 106 vectors.\n",
      "Bucket ID 000 has 115 vectors.\n",
      "Bucket ID 111 has 87 vectors.\n",
      "Bucket ID 110 has 121 vectors.\n",
      "Bucket ID 100 has 118 vectors.\n",
      "Bucket ID 101 has 132 vectors.\n",
      "\n",
      "We only need to compare y against vectors in bucket 101.\n"
     ]
    }
   ],
   "source": [
    "L13 = clsh(X, ntables=1, nfunctions=3)\n",
    "for k in L13.tables[0].keys():\n",
    "    print(\"Bucket ID %s has %d vectors.\" % (k, len(L13.tables[0][k])))\n",
    "    \n",
    "print(\"\\nWe only need to compare y against vectors in bucket %s.\" % L13.signature(Y[0,:], tid=0))"
   ]
  },
  {
   "cell_type": "markdown",
   "metadata": {},
   "source": [
    "**Side note**: Note that in this academic LSH implementation we use a simple way to generate bucket IDs. We concatenate the string representation of the resulting hash value from each hash function. LSH libraries often implement a secondary (exact) hash function for generating numeric IDs for the buckets. A similar scheme is proposed in the LSH reference I nored on Canvas: [SPM'08] Malcolm Slaney and Michael Casey. Locality-Sensitive Hashing for Finding Nearest Neighbors. Lecture Notes. IEEE Signal Processing Magazine, 2008.\n",
    "\n",
    "It is easy to see we now have much fewer vectors to compare against when we search for $y$'s neighbors. However, some of the true neighbors may have been accidentally placed in other buckets, which lowers *recall*. Recall (also known in Statistics references as *sensitivity*) is the fraction of relevant instances that are retrieved, i.e., the fraction of true neighbors in our top-$k$ divided by $k$. \n",
    "\n",
    "Let's compare the mean recall for finding neighbors using 1 hash function vs. 3 hash functions. To do that, we will first have to find the \"true neighbors\"."
   ]
  },
  {
   "cell_type": "code",
   "execution_count": 8,
   "metadata": {},
   "outputs": [
    {
     "name": "stdout",
     "output_type": "stream",
     "text": [
      "Number of computed similarities for the brute-force approach: 90000.\n",
      "Recall with 1 hash function: 0.542100. Number of computed similarities: 45112.\n",
      "Recall with 3 hash functions: 0.163800. Number of computed similarities: 11467.\n"
     ]
    }
   ],
   "source": [
    "k = 100  # number of neighbors to find\n",
    "nbrsExact = findNeighborsBrute(X, Y, k=k, sim=\"cos\")\n",
    "print(\"Number of computed similarities for the brute-force approach: %d.\" % (X.shape[0] * Y.shape[0]))\n",
    "nbrsTest11  = L11.findNeighbors(Y, k=k)\n",
    "nbrsTest13  = L13.findNeighbors(Y, k=k)\n",
    "print(\"Recall with 1 hash function: %f. Number of computed similarities: %d.\" % (recall(nbrsTest11, nbrsExact), L11.nsims))\n",
    "print(\"Recall with 3 hash functions: %f. Number of computed similarities: %d.\" % (recall(nbrsTest13, nbrsExact), L13.nsims))"
   ]
  },
  {
   "cell_type": "markdown",
   "metadata": {},
   "source": [
    "We can increase the recall by building several LSH tables instead of one. Then, instead of looking in one bucket for $y$'s neighbors, we will be looking in one bucket in each table. The search method gets the set union of object IDs in all these buckets, and then computes similarities against all of them.\n",
    "\n",
    "### Excercise 1\n",
    "\n",
    "Compare the mean recall for finding neighbors using 1 table vs. 3 tables, when each table uses 3 hash functions."
   ]
  },
  {
   "cell_type": "code",
   "execution_count": 9,
   "metadata": {},
   "outputs": [
    {
     "name": "stdout",
     "output_type": "stream",
     "text": [
      "Number of computed similarities for the brute-force approach: 90000.\n",
      "Recall with 1 tables, 3 hash function: 0.163800. Number of computed similarities: 11467.\n",
      "Recall with 3 tables, 3 hash functions: 0.421700. Number of computed similarities: 29560.\n"
     ]
    }
   ],
   "source": [
    "k = 100  # number of neighbors to find\n",
    "def excercise_1(X, Y, similarity='cos'):\n",
    "    L33 = clsh(X, ntables=3, nfunctions=3)\n",
    "    nbrsExact = findNeighborsBrute(X, Y, k=k, sim=similarity)\n",
    "    print(\"Number of computed similarities for the brute-force approach: %d.\" % (X.shape[0] * Y.shape[0]))\n",
    "    nbrsTest13  = L13.findNeighbors(Y, k=k)\n",
    "    nbrsTest33  = L33.findNeighbors(Y, k=k)\n",
    "    print(\"Recall with 1 tables, 3 hash function: %f. Number of computed similarities: %d.\" % (recall(nbrsTest13, nbrsExact), L13.nsims))\n",
    "    print(\"Recall with 3 tables, 3 hash functions: %f. Number of computed similarities: %d.\" % (recall(nbrsTest33, nbrsExact), L33.nsims))\n",
    "    \n",
    "excercise_1(X, Y, similarity='cos')"
   ]
  },
  {
   "cell_type": "markdown",
   "metadata": {},
   "source": [
    "Given high enough # tables and # hashes (hash functions), we can achieve high recall and precision, sometimes at the expense of efficiency.\n",
    "\n",
    "### Excercise 2\n",
    "\n",
    "Find the minimum number of tables necessary to obtain `recall` of at least `0.90` using 3 functions. What is the number of computed similarities for that LSH forest?"
   ]
  },
  {
   "cell_type": "code",
   "execution_count": 10,
   "metadata": {},
   "outputs": [
    {
     "name": "stdout",
     "output_type": "stream",
     "text": [
      "=========== Cosine Similarity ===========\n",
      "('Number of tables: ', 1)\n",
      "('Recall rate: ', 0.1739000000000001)\n",
      "('Number of tables: ', 2)\n",
      "('Recall rate: ', 0.3171999999999999)\n",
      "('Number of tables: ', 3)\n",
      "('Recall rate: ', 0.4355000000000001)\n",
      "('Number of tables: ', 4)\n",
      "('Recall rate: ', 0.5190000000000001)\n",
      "('Number of tables: ', 5)\n",
      "('Recall rate: ', 0.6058000000000002)\n",
      "('Number of tables: ', 6)\n",
      "('Recall rate: ', 0.6659)\n",
      "('Number of tables: ', 7)\n",
      "('Recall rate: ', 0.7280000000000002)\n",
      "('Number of tables: ', 8)\n",
      "('Recall rate: ', 0.7774999999999999)\n",
      "('Number of tables: ', 9)\n",
      "('Recall rate: ', 0.8129000000000004)\n",
      "('Number of tables: ', 10)\n",
      "('Recall rate: ', 0.8429000000000001)\n",
      "('Number of tables: ', 11)\n",
      "('Recall rate: ', 0.8738000000000004)\n",
      "('Number of tables: ', 12)\n",
      "('Recall rate: ', 0.8912000000000003)\n",
      "('Number of tables: ', 13)\n",
      "('Recall rate: ', 0.9118999999999999)\n",
      "********** end **********\n"
     ]
    }
   ],
   "source": [
    "def excercise_2(X, Y, similarity='cos'):\n",
    "    if similarity == 'cos':\n",
    "        name_of_metrics = 'Cosine Similarity'\n",
    "        \n",
    "    elif similarity == 'jac':\n",
    "        name_of_metrics = 'Jaccard coefficient'\n",
    "    \n",
    "    print('=========== ' + name_of_metrics + ' ===========')\n",
    "    \n",
    "    n_tables = 1\n",
    "\n",
    "    Ln3 = clsh(X, ntables=n_tables, nfunctions=3)\n",
    "    if similarity == 'jac':\n",
    "        Ln3 = jlsh(X, ntables=n_tables, nfunctions=3)\n",
    "\n",
    "    n_neighbors_exact_n3 = findNeighborsBrute(X, Y, k=k, sim=similarity)\n",
    "\n",
    "    n_neighbors_test_n3 = Ln3.findNeighbors(Y, k=k)\n",
    "\n",
    "    recall_rate = recall(n_neighbors_test_n3, n_neighbors_exact_n3)\n",
    "\n",
    "    while recall_rate < 0.9:\n",
    "        if similarity == 'jac':\n",
    "            Ln3 = jlsh(X, ntables=n_tables, nfunctions=3)\n",
    "        else:\n",
    "            Ln3 = clsh(X, ntables=n_tables, nfunctions=3)\n",
    "\n",
    "        n_neighbors_test_n3 = Ln3.findNeighbors(Y, k=k)\n",
    "\n",
    "        recall_rate = recall(n_neighbors_test_n3, n_neighbors_exact_n3)\n",
    "\n",
    "        print('Number of tables: ', n_tables)\n",
    "        print('Recall rate: ', recall_rate)\n",
    "\n",
    "        n_tables += 1\n",
    "    print('********** end **********')\n",
    "    \n",
    "excercise_2(X, Y, similarity='cos')"
   ]
  },
  {
   "cell_type": "markdown",
   "metadata": {},
   "source": [
    "### Exercise 3\n",
    "\n",
    "Repeat Exrcise 1 and 2 using `Jaccard Coefficient` instead of `cosine similarity`. Note that you will need to re-generate samples using the `binary=True` parameter and re-compute `nbrsExact` for the new similarity measure."
   ]
  },
  {
   "cell_type": "code",
   "execution_count": 11,
   "metadata": {},
   "outputs": [
    {
     "name": "stdout",
     "output_type": "stream",
     "text": [
      "Number of computed similarities for the brute-force approach: 90000.\n",
      "Recall with 1 tables, 3 hash function: 0.116700. Number of computed similarities: 11474.\n",
      "Recall with 3 tables, 3 hash functions: 0.782300. Number of computed similarities: 64664.\n",
      "\n",
      "=========== Jaccard coefficient ===========\n",
      "('Number of tables: ', 1)\n",
      "('Recall rate: ', 0.08459999999999995)\n",
      "('Number of tables: ', 2)\n",
      "('Recall rate: ', 0.14489999999999997)\n",
      "('Number of tables: ', 3)\n",
      "('Recall rate: ', 0.23339999999999989)\n",
      "('Number of tables: ', 4)\n",
      "('Recall rate: ', 0.26629999999999987)\n",
      "('Number of tables: ', 5)\n",
      "('Recall rate: ', 0.31279999999999997)\n",
      "('Number of tables: ', 6)\n",
      "('Recall rate: ', 0.36439999999999984)\n",
      "('Number of tables: ', 7)\n",
      "('Recall rate: ', 0.44299999999999984)\n",
      "('Number of tables: ', 8)\n",
      "('Recall rate: ', 0.4664000000000001)\n",
      "('Number of tables: ', 9)\n",
      "('Recall rate: ', 0.5545)\n",
      "('Number of tables: ', 10)\n",
      "('Recall rate: ', 0.6019)\n",
      "('Number of tables: ', 11)\n",
      "('Recall rate: ', 0.6015000000000001)\n",
      "('Number of tables: ', 12)\n",
      "('Recall rate: ', 0.6598999999999999)\n",
      "('Number of tables: ', 13)\n",
      "('Recall rate: ', 0.6638)\n",
      "('Number of tables: ', 14)\n",
      "('Recall rate: ', 0.6737999999999996)\n",
      "('Number of tables: ', 15)\n",
      "('Recall rate: ', 0.6782000000000002)\n",
      "('Number of tables: ', 16)\n",
      "('Recall rate: ', 0.7303000000000001)\n",
      "('Number of tables: ', 17)\n",
      "('Recall rate: ', 0.7647000000000002)\n",
      "('Number of tables: ', 18)\n",
      "('Recall rate: ', 0.7680000000000003)\n",
      "('Number of tables: ', 19)\n",
      "('Recall rate: ', 0.7576)\n",
      "('Number of tables: ', 20)\n",
      "('Recall rate: ', 0.8361)\n",
      "('Number of tables: ', 21)\n",
      "('Recall rate: ', 0.7979999999999999)\n",
      "('Number of tables: ', 22)\n",
      "('Recall rate: ', 0.8472)\n",
      "('Number of tables: ', 23)\n",
      "('Recall rate: ', 0.8267)\n",
      "('Number of tables: ', 24)\n",
      "('Recall rate: ', 0.8773999999999998)\n",
      "('Number of tables: ', 25)\n",
      "('Recall rate: ', 0.8805999999999993)\n",
      "('Number of tables: ', 26)\n",
      "('Recall rate: ', 0.8721000000000001)\n",
      "('Number of tables: ', 27)\n",
      "('Recall rate: ', 0.8743999999999997)\n",
      "('Number of tables: ', 28)\n",
      "('Recall rate: ', 0.8798999999999998)\n",
      "('Number of tables: ', 29)\n",
      "('Recall rate: ', 0.9051)\n",
      "********** end **********\n"
     ]
    }
   ],
   "source": [
    "X , Y = get_samples(is_binary=True)\n",
    "excercise_1(X, Y, similarity='jac')\n",
    "print ''\n",
    "excercise_2(X, Y, similarity='jac')"
   ]
  },
  {
   "cell_type": "code",
   "execution_count": null,
   "metadata": {},
   "outputs": [],
   "source": []
  }
 ],
 "metadata": {
  "anaconda-cloud": {},
  "kernelspec": {
   "display_name": "Python 2",
   "language": "python",
   "name": "python2"
  },
  "language_info": {
   "codemirror_mode": {
    "name": "ipython",
    "version": 2
   },
   "file_extension": ".py",
   "mimetype": "text/x-python",
   "name": "python",
   "nbconvert_exporter": "python",
   "pygments_lexer": "ipython2",
   "version": "2.7.14"
  }
 },
 "nbformat": 4,
 "nbformat_minor": 1
}
